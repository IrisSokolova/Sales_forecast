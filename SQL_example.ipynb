{
 "cells": [
  {
   "cell_type": "markdown",
   "metadata": {},
   "source": [
    "### Тестовое задание 2 (часть 3)\n",
    "Соколова Ирина 09/10/2020"
   ]
  },
  {
   "cell_type": "markdown",
   "metadata": {},
   "source": [
    "### SQL запрос"
   ]
  },
  {
   "cell_type": "raw",
   "metadata": {},
   "source": [
    "SELECT\n",
    "    purchase_date,\n",
    "    purchase_id,\n",
    "    client_id,\n",
    "    client_age,\n",
    "    client_registration_age,\n",
    "    CASE\n",
    "    WHEN num_of_purchse == 1 THEN 'new'\n",
    "    WHEN num_of_purchse > 1 THEN 'old'\n",
    "    END AS client_category,\n",
    "    promotion_name,\n",
    "    category_name,\n",
    "    partner_name,\n",
    "    client_city,\n",
    "    city,\n",
    "    revenue,\n",
    "    quantity_sum as quantity\n",
    "FROM\n",
    "    (SELECT \n",
    "        purchase_date,\n",
    "        purchase_id,\n",
    "        client_id,\n",
    "        dateDiff(year, birth_date, registration) as client_age,\n",
    "        dateDiff(year, registration, purchase_date) as client_registration_age,\n",
    "        uniqExact(purchase_id) as num_of_purchse,\n",
    "        multiply(price, quantity) as revenue,\n",
    "        sum(quantity) as quantity_sum,\n",
    "        promotion_name,\n",
    "        category_name,\n",
    "        partner_name,\n",
    "        client_city,\n",
    "        city\n",
    "    FROM\n",
    "        (SELECT\n",
    "            cast(purchase.purchase_date) as purchase_date , \n",
    "            purchase.purchase_id as purchase_id,\n",
    "            purchase.client_id as client_id,\n",
    "            purchase.price as price,\n",
    "            purchase.quantity as quantity,\n",
    "            cast(clients.birth_date as date) as birth_date,\n",
    "            cast(clients.registration as date) as registration,\n",
    "            promotion.promotion_name as promotion_name,\n",
    "            promotion.category_name as category_name, \n",
    "            promotion.partner_name as partner_name,\n",
    "            city.client_city as client_city,\n",
    "            city.city as city\n",
    "        FROM test.t_purchase\n",
    "        left join clients on purchase.client_id == clients.client_id\n",
    "        left join promotion on purchase.promotion_id == promotion.promotion_id\n",
    "        left join city on purchase.city_id == city.city_id\n",
    "        WHERE purchase.status = 1 and (purchase_date BETWEEN '2020-05-01' AND '2020-08-01'))\n",
    "    GROUP BY\n",
    "    purchase_date,\n",
    "    purchase_id,\n",
    "    client_id,\n",
    "    category_name,\n",
    "    partner_name,\n",
    "    client_city,\n",
    "    city, \n",
    "    client_age,\n",
    "    client_registration_age, \n",
    "    revenue,\n",
    "    promotion_name)"
   ]
  }
 ],
 "metadata": {
  "kernelspec": {
   "display_name": "Python 3",
   "language": "python",
   "name": "python3"
  },
  "language_info": {
   "codemirror_mode": {
    "name": "ipython",
    "version": 3
   },
   "file_extension": ".py",
   "mimetype": "text/x-python",
   "name": "python",
   "nbconvert_exporter": "python",
   "pygments_lexer": "ipython3",
   "version": "3.7.1"
  }
 },
 "nbformat": 4,
 "nbformat_minor": 2
}
